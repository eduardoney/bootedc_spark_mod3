{
 "cells": [
  {
   "cell_type": "code",
   "execution_count": null,
   "source": [
    "from pyspark.sql import SparkSession\n",
    "import pyspark.sql.functions as f"
   ],
   "outputs": [],
   "metadata": {}
  },
  {
   "cell_type": "code",
   "execution_count": null,
   "source": [
    "#Criando uma session com acesso ao gcp\n",
    "spark = (\n",
    "    SparkSession\n",
    "    .builder\n",
    "    .appName(\"Desafio-edc-format-trusted\")\n",
    "    .config(\"spark.serializer\",\"org.apache.spark.serializer.KryoSerializer\")\n",
    "    .config(\"spark.jars\",\"./jars/gcs-connector-hadoop3-latest.jar\")\n",
    "    .config(\"fs.gs.impl\", \"com.google.cloud.hadoop.fs.gcs.GoogleHadoopFileSystem\")\n",
    "    .config(\"fs.AbstractFileSystem.gs.impl\",\"com.google.cloud.hadoop.fs.gcs.GoogleHadoopFS\")\n",
    "    .config(\"fs.gs.auth.service.account.enable\",\"true\")\n",
    "    .config(\"fs.gs.auth.service.account.json.keyfile\", \"/mnt/d/EngDados/gcp/gcp-estudos-engdados-20f2cdfffed8.json\")\n",
    "    .config(\"spark.driver.memory\", \"8g\")\n",
    "    .getOrCreate()\n",
    ")"
   ],
   "outputs": [],
   "metadata": {}
  },
  {
   "cell_type": "markdown",
   "source": [
    "## Formatação dos dados de CNAE - Atividade Economica\n",
    "Ajustar os tipos de dados para melhor leitura/joins"
   ],
   "metadata": {}
  },
  {
   "cell_type": "code",
   "execution_count": null,
   "source": [
    "df_cnae = spark.read.parquet(\"gs://bootcamp-edc/raw/cnae.parquet/*.parquet\")"
   ],
   "outputs": [],
   "metadata": {}
  },
  {
   "cell_type": "code",
   "execution_count": null,
   "source": [
    "df_cnae.limit(5).toPandas()"
   ],
   "outputs": [],
   "metadata": {}
  },
  {
   "cell_type": "code",
   "execution_count": null,
   "source": [
    "df_cnae = (\n",
    "    df_cnae\n",
    "    .withColumn(\"cod_atividade\", f.col(\"cod_atividade\").cast(\"int\"))\n",
    "    .withColumn(\"desc_atividade\", f.trim(f.col(\"desc_atividade\")))\n",
    "    )"
   ],
   "outputs": [],
   "metadata": {}
  },
  {
   "cell_type": "code",
   "execution_count": null,
   "source": [
    "df_cnae.limit(10).toPandas()"
   ],
   "outputs": [],
   "metadata": {}
  },
  {
   "cell_type": "code",
   "execution_count": null,
   "source": [
    "df_cnae.printSchema()"
   ],
   "outputs": [],
   "metadata": {}
  },
  {
   "cell_type": "code",
   "execution_count": null,
   "source": [
    "df_cnae.write.mode(\"overwrite\").parquet(\"gs://bootcamp-edc/trusted/cnae.parquet\")"
   ],
   "outputs": [],
   "metadata": {}
  },
  {
   "cell_type": "code",
   "execution_count": null,
   "source": [
    "del(df_cnae)"
   ],
   "outputs": [],
   "metadata": {}
  },
  {
   "cell_type": "markdown",
   "source": [
    "## Leitura dos dados de Município"
   ],
   "metadata": {}
  },
  {
   "cell_type": "code",
   "execution_count": null,
   "source": [
    "df_municipio = spark.read.parquet(\"gs://bootcamp-edc/raw/municipio.parquet/*.parquet\")"
   ],
   "outputs": [],
   "metadata": {}
  },
  {
   "cell_type": "code",
   "execution_count": null,
   "source": [
    "df_municipio.limit(5).toPandas()"
   ],
   "outputs": [],
   "metadata": {}
  },
  {
   "cell_type": "code",
   "execution_count": null,
   "source": [
    "df_municipio = (\n",
    "    df_municipio\n",
    "    .withColumn(\"cod_municipio\", f.col(\"cod_municipio\").cast(\"int\"))\n",
    "    .withColumn(\"desc_municipio\", f.initcap(f.trim(f.col(\"desc_municipio\"))))\n",
    ")"
   ],
   "outputs": [],
   "metadata": {}
  },
  {
   "cell_type": "code",
   "execution_count": null,
   "source": [
    "df_municipio.limit(10).toPandas()"
   ],
   "outputs": [],
   "metadata": {}
  },
  {
   "cell_type": "code",
   "execution_count": null,
   "source": [
    "df_municipio.printSchema()"
   ],
   "outputs": [],
   "metadata": {}
  },
  {
   "cell_type": "code",
   "execution_count": null,
   "source": [
    "df_municipio.write.mode(\"overwrite\").parquet(\"gs://bootcamp-edc/trusted/municipio.parquet\")"
   ],
   "outputs": [],
   "metadata": {}
  },
  {
   "cell_type": "code",
   "execution_count": null,
   "source": [
    "del(df_municipio)"
   ],
   "outputs": [],
   "metadata": {}
  },
  {
   "cell_type": "markdown",
   "source": [
    "## Leitura dos dados de estabelecimentos"
   ],
   "metadata": {}
  },
  {
   "cell_type": "code",
   "execution_count": null,
   "source": [
    "df_estabelecimento = spark.read.parquet(\"gs://bootcamp-edc/raw/estabelecimento.parquet/*.parquet\")"
   ],
   "outputs": [],
   "metadata": {}
  },
  {
   "cell_type": "code",
   "execution_count": null,
   "source": [
    "df_estabelecimento.limit(5).toPandas()"
   ],
   "outputs": [],
   "metadata": {}
  },
  {
   "cell_type": "code",
   "execution_count": null,
   "source": [
    "#Formata colunas inteiras\n",
    "int_columns = [\"idc_matriz_filial\",\"cod_situacao_cadastral\",\"motivo_situacao_cadastral\",\"cod_pais\",\"cod_municipio\"]\n",
    "for column in int_columns:\n",
    "    df_estabelecimento = df_estabelecimento.withColumn(column, f.col(column).cast(\"int\"))"
   ],
   "outputs": [],
   "metadata": {}
  },
  {
   "cell_type": "code",
   "execution_count": null,
   "source": [
    "#Formata colunas strings\n",
    "str_columns = [\"nome_fantasia\",\"nome_cidade_exterior\"]\n",
    "for column in str_columns:\n",
    "    df_estabelecimento = df_estabelecimento.withColumn(column, f.initcap(f.trim(f.col(column))))\n",
    "    \n",
    "df_estabelecimento = df_estabelecimento.withColumn(\"email\", f.lower(f.trim(f.col(\"email\"))))"
   ],
   "outputs": [],
   "metadata": {}
  },
  {
   "cell_type": "code",
   "execution_count": null,
   "source": [
    "df_estabelecimento.limit(10).toPandas()"
   ],
   "outputs": [],
   "metadata": {}
  },
  {
   "cell_type": "code",
   "execution_count": null,
   "source": [
    "df_estabelecimento.printSchema()"
   ],
   "outputs": [],
   "metadata": {}
  },
  {
   "cell_type": "code",
   "execution_count": null,
   "source": [
    "df_estabelecimento.write.mode(\"overwrite\").parquet(\"gs://bootcamp-edc/trusted/estabelecimento.parquet\")"
   ],
   "outputs": [],
   "metadata": {}
  },
  {
   "cell_type": "code",
   "execution_count": null,
   "source": [
    "del(df_estabelecimento)"
   ],
   "outputs": [],
   "metadata": {}
  },
  {
   "cell_type": "code",
   "execution_count": null,
   "source": [
    "spark.stop()"
   ],
   "outputs": [],
   "metadata": {}
  }
 ],
 "metadata": {
  "orig_nbformat": 4,
  "language_info": {
   "name": "python",
   "version": "3.8.10",
   "mimetype": "text/x-python",
   "codemirror_mode": {
    "name": "ipython",
    "version": 3
   },
   "pygments_lexer": "ipython3",
   "nbconvert_exporter": "python",
   "file_extension": ".py"
  },
  "kernelspec": {
   "name": "python3",
   "display_name": "Python 3.8.10 64-bit"
  },
  "interpreter": {
   "hash": "916dbcbb3f70747c44a77c7bcd40155683ae19c65e1c03b4aa3499c5328201f1"
  }
 },
 "nbformat": 4,
 "nbformat_minor": 2
}