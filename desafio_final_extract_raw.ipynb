{
 "cells": [
  {
   "cell_type": "code",
   "execution_count": null,
   "source": [
    "from pyspark.sql import SparkSession\n",
    "from pyspark.sql.types import StructType, StructField, StringType"
   ],
   "outputs": [],
   "metadata": {}
  },
  {
   "cell_type": "code",
   "execution_count": null,
   "source": [
    "\n",
    "#Criando uma session com acesso ao gcp\n",
    "spark = (\n",
    "    SparkSession\n",
    "    .builder\n",
    "    .appName(\"Desafio-EDC-Extracao\")\n",
    "    .config(\"spark.serializer\",\"org.apache.spark.serializer.KryoSerializer\")\n",
    "    .config(\"spark.jars\",\"./jars/gcs-connector-hadoop3-latest.jar\")\n",
    "    .config(\"fs.gs.impl\", \"com.google.cloud.hadoop.fs.gcs.GoogleHadoopFileSystem\")\n",
    "    .config(\"fs.AbstractFileSystem.gs.impl\",\"com.google.cloud.hadoop.fs.gcs.GoogleHadoopFS\")\n",
    "    .config(\"fs.gs.auth.service.account.enable\",\"true\")\n",
    "    .config(\"fs.gs.auth.service.account.json.keyfile\", \"/mnt/d/EngDados/gcp/gcp-estudos-engdados-20f2cdfffed8.json\")\n",
    "    .config(\"spark.driver.memory\", \"8g\")\n",
    "    .getOrCreate()\n",
    ")"
   ],
   "outputs": [],
   "metadata": {}
  },
  {
   "cell_type": "markdown",
   "source": [
    "## Leitura dos dados de CNAE - Atividade Economica"
   ],
   "metadata": {}
  },
  {
   "cell_type": "code",
   "execution_count": null,
   "source": [
    "schema_cnae = (\n",
    "    StructType([\n",
    "        StructField(\"cod_atividade\", StringType(),True ),\n",
    "        StructField(\"desc_atividade\", StringType(), True)\n",
    "        ])\n",
    "    )"
   ],
   "outputs": [],
   "metadata": {}
  },
  {
   "cell_type": "code",
   "execution_count": null,
   "source": [
    "df_cnae = spark.read.csv(\"gs://desafio-final/F.K03200$Z.D10710.CNAE.csv\",\n",
    "                         sep=\";\",\n",
    "                         header=False,\n",
    "                         encoding=\"ISO-8859-1\",\n",
    "                         schema=schema_cnae)"
   ],
   "outputs": [],
   "metadata": {}
  },
  {
   "cell_type": "code",
   "execution_count": null,
   "source": [
    "df_cnae.limit(5).toPandas()"
   ],
   "outputs": [],
   "metadata": {}
  },
  {
   "cell_type": "code",
   "execution_count": null,
   "source": [
    "df_cnae.write.mode(\"overwrite\").parquet(\"gs://bootcamp-edc/raw/cnae.parquet\")"
   ],
   "outputs": [],
   "metadata": {}
  },
  {
   "cell_type": "markdown",
   "source": [
    "## Leitura dos dados de Município"
   ],
   "metadata": {}
  },
  {
   "cell_type": "code",
   "execution_count": null,
   "source": [
    "del(df_cnae)"
   ],
   "outputs": [],
   "metadata": {}
  },
  {
   "cell_type": "code",
   "execution_count": null,
   "source": [
    "schema_municipio = (\n",
    "    StructType([\n",
    "        StructField(\"cod_municipio\", StringType(), True),\n",
    "        StructField(\"desc_municipio\", StringType(), True)\n",
    "        ])\n",
    "    )"
   ],
   "outputs": [],
   "metadata": {}
  },
  {
   "cell_type": "code",
   "execution_count": null,
   "source": [
    "df_municipio = spark.read.csv(\"gs://desafio-final/F.K03200$Z.D10710.MUNIC.csv\",\n",
    "                              sep=\";\",\n",
    "                              header=False,\n",
    "                              encoding=\"ISO-8859-1\",\n",
    "                              schema=schema_municipio)"
   ],
   "outputs": [],
   "metadata": {}
  },
  {
   "cell_type": "code",
   "execution_count": null,
   "source": [
    "df_municipio.limit(5).toPandas()"
   ],
   "outputs": [],
   "metadata": {}
  },
  {
   "cell_type": "code",
   "execution_count": null,
   "source": [
    "df_municipio.write.mode(\"overwrite\").parquet(\"gs://bootcamp-edc/raw/municipio.parquet\")"
   ],
   "outputs": [],
   "metadata": {}
  },
  {
   "cell_type": "code",
   "execution_count": null,
   "source": [
    "del(df_municipio)"
   ],
   "outputs": [],
   "metadata": {}
  },
  {
   "cell_type": "markdown",
   "source": [
    "## Leitura dos dados de estabelecimentos"
   ],
   "metadata": {}
  },
  {
   "cell_type": "code",
   "execution_count": null,
   "source": [
    "schema_estabelecimento = (\n",
    "    StructType([\n",
    "        StructField(\"cnpj_basico\", StringType(), True),\n",
    "        StructField(\"cnpj_ordem\", StringType(), True),\n",
    "        StructField(\"cnpj_dig_verificador\", StringType(), True),\n",
    "        StructField(\"idc_matriz_filial\", StringType(), True),\n",
    "        StructField(\"nome_fantasia\", StringType(), True),\n",
    "        StructField(\"cod_situacao_cadastral\", StringType(), True),\n",
    "        StructField(\"data_situacao_cadastral\", StringType(), True),\n",
    "        StructField(\"motivo_situacao_cadastral\", StringType(), True),\n",
    "        StructField(\"nome_cidade_exterior\", StringType(), True),\n",
    "        StructField(\"cod_pais\", StringType(), True),\n",
    "        StructField(\"data_inicio_atividade\", StringType(), True),\n",
    "        StructField(\"cnae_fiscal_principal\", StringType(), True),\n",
    "        StructField(\"cnae_fiscal_secundaria\", StringType(), True),\n",
    "        StructField(\"tipo_logradouro\", StringType(), True),\n",
    "        StructField(\"nome_logradouro\", StringType(), True),\n",
    "        StructField(\"numero_logradouro\", StringType(), True),\n",
    "        StructField(\"complemento_logradouro\", StringType(), True),\n",
    "        StructField(\"nome_bairro\", StringType(), True),\n",
    "        StructField(\"cod_cep\", StringType(), True),\n",
    "        StructField(\"sigla_uf\", StringType(), True),\n",
    "        StructField(\"cod_municipio\", StringType(), True),\n",
    "        StructField(\"ddd_telefone_1\", StringType(), True),\n",
    "        StructField(\"num_telefone_1\", StringType(), True),\n",
    "        StructField(\"ddd_telefone_2\", StringType(), True),\n",
    "        StructField(\"num_telefone_2\", StringType(), True),\n",
    "        StructField(\"ddd_fax\", StringType(), True),\n",
    "        StructField(\"num_fax_2\", StringType(), True),\n",
    "        StructField(\"email\", StringType(), True),\n",
    "        StructField(\"situacao_especial\", StringType(), True),\n",
    "        StructField(\"data_situacao_especial\", StringType(), True)\n",
    "    ])\n",
    ")"
   ],
   "outputs": [],
   "metadata": {}
  },
  {
   "cell_type": "code",
   "execution_count": null,
   "source": [
    "df_estabelecimento = spark.read.csv(\n",
    "    \"gs://desafio-final/estabelecimentos/K3241.K03200Y0.D10710.ESTABELE.csv\",\n",
    "    sep=\";\",\n",
    "    header=False,\n",
    "    encoding=\"ISO-8859-1\",\n",
    "    schema=schema_estabelecimento\n",
    ").sample(0.1)"
   ],
   "outputs": [],
   "metadata": {}
  },
  {
   "cell_type": "code",
   "execution_count": null,
   "source": [
    "df_estabelecimento.limit(5).toPandas()"
   ],
   "outputs": [],
   "metadata": {}
  },
  {
   "cell_type": "code",
   "execution_count": null,
   "source": [
    "df_estabelecimento.write.mode(\"overwrite\").parquet(\"gs://bootcamp-edc/raw/estabelecimento.parquet\")"
   ],
   "outputs": [],
   "metadata": {}
  },
  {
   "cell_type": "code",
   "execution_count": null,
   "source": [
    "spark.stop()"
   ],
   "outputs": [],
   "metadata": {}
  }
 ],
 "metadata": {
  "orig_nbformat": 4,
  "language_info": {
   "name": "python",
   "version": "3.8.10",
   "mimetype": "text/x-python",
   "codemirror_mode": {
    "name": "ipython",
    "version": 3
   },
   "pygments_lexer": "ipython3",
   "nbconvert_exporter": "python",
   "file_extension": ".py"
  },
  "kernelspec": {
   "name": "python3",
   "display_name": "Python 3.8.10 64-bit"
  },
  "interpreter": {
   "hash": "916dbcbb3f70747c44a77c7bcd40155683ae19c65e1c03b4aa3499c5328201f1"
  }
 },
 "nbformat": 4,
 "nbformat_minor": 2
}