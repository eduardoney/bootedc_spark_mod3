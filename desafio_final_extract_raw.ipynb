{
 "cells": [
  {
   "cell_type": "code",
   "execution_count": 1,
   "source": [
    "from pyspark.sql import SparkSession\n",
    "from pyspark.sql.types import StructType, StructField, StringType"
   ],
   "outputs": [],
   "metadata": {}
  },
  {
   "cell_type": "code",
   "execution_count": 2,
   "source": [
    "\n",
    "#Criando uma session com acesso ao gcp\n",
    "spark = (\n",
    "    SparkSession\n",
    "    .builder\n",
    "    .appName(\"Desafio-EDC-Extracao\")\n",
    "    .config(\"spark.serializer\",\"org.apache.spark.serializer.KryoSerializer\")\n",
    "    .config(\"spark.jars\",\"./jars/gcs-connector-hadoop3-latest.jar\")\n",
    "    .config(\"fs.gs.impl\", \"com.google.cloud.hadoop.fs.gcs.GoogleHadoopFileSystem\")\n",
    "    .config(\"fs.AbstractFileSystem.gs.impl\",\"com.google.cloud.hadoop.fs.gcs.GoogleHadoopFS\")\n",
    "    .config(\"fs.gs.auth.service.account.enable\",\"true\")\n",
    "    .config(\"fs.gs.auth.service.account.json.keyfile\", \"/mnt/d/EngDados/gcp/gcp-estudos-engdados-20f2cdfffed8.json\")\n",
    "    .config(\"spark.driver.memory\", \"8g\")\n",
    "    .getOrCreate()\n",
    ")"
   ],
   "outputs": [
    {
     "output_type": "stream",
     "name": "stderr",
     "text": [
      "Warning: Ignoring non-Spark config property: fs.gs.auth.service.account.enable\n",
      "Warning: Ignoring non-Spark config property: fs.gs.auth.service.account.json.keyfile\n",
      "Warning: Ignoring non-Spark config property: fs.AbstractFileSystem.gs.impl\n",
      "Warning: Ignoring non-Spark config property: fs.gs.impl\n",
      "21/09/12 22:49:44 WARN Utils: Your hostname, eduney-pc resolves to a loopback address: 127.0.1.1; using 172.26.68.160 instead (on interface eth0)\n",
      "21/09/12 22:49:44 WARN Utils: Set SPARK_LOCAL_IP if you need to bind to another address\n",
      "WARNING: An illegal reflective access operation has occurred\n",
      "WARNING: Illegal reflective access by org.apache.spark.unsafe.Platform (file:/home/eduney/.local/lib/python3.8/site-packages/pyspark/jars/spark-unsafe_2.12-3.1.2.jar) to constructor java.nio.DirectByteBuffer(long,int)\n",
      "WARNING: Please consider reporting this to the maintainers of org.apache.spark.unsafe.Platform\n",
      "WARNING: Use --illegal-access=warn to enable warnings of further illegal reflective access operations\n",
      "WARNING: All illegal access operations will be denied in a future release\n",
      "21/09/12 22:49:45 WARN NativeCodeLoader: Unable to load native-hadoop library for your platform... using builtin-java classes where applicable\n",
      "Using Spark's default log4j profile: org/apache/spark/log4j-defaults.properties\n",
      "Setting default log level to \"WARN\".\n",
      "To adjust logging level use sc.setLogLevel(newLevel). For SparkR, use setLogLevel(newLevel).\n",
      "21/09/12 22:49:46 WARN Utils: Service 'SparkUI' could not bind on port 4040. Attempting port 4041.\n"
     ]
    }
   ],
   "metadata": {}
  },
  {
   "cell_type": "markdown",
   "source": [
    "## Leitura dos dados de CNAE - Atividade Economica"
   ],
   "metadata": {}
  },
  {
   "cell_type": "code",
   "execution_count": 3,
   "source": [
    "schema_cnae = (\n",
    "    StructType([\n",
    "        StructField(\"cod_atividade\", StringType(),True ),\n",
    "        StructField(\"desc_atividade\", StringType(), True)\n",
    "        ])\n",
    "    )"
   ],
   "outputs": [],
   "metadata": {}
  },
  {
   "cell_type": "code",
   "execution_count": 4,
   "source": [
    "df_cnae = spark.read.csv(\"gs://desafio-final/F.K03200$Z.D10710.CNAE.csv\",\n",
    "                         sep=\";\",\n",
    "                         header=False,\n",
    "                         encoding=\"ISO-8859-1\",\n",
    "                         schema=schema_cnae)"
   ],
   "outputs": [],
   "metadata": {}
  },
  {
   "cell_type": "code",
   "execution_count": 5,
   "source": [
    "df_cnae.limit(5).toPandas()"
   ],
   "outputs": [
    {
     "output_type": "stream",
     "name": "stderr",
     "text": []
    },
    {
     "output_type": "execute_result",
     "data": {
      "text/html": [
       "<div>\n",
       "<style scoped>\n",
       "    .dataframe tbody tr th:only-of-type {\n",
       "        vertical-align: middle;\n",
       "    }\n",
       "\n",
       "    .dataframe tbody tr th {\n",
       "        vertical-align: top;\n",
       "    }\n",
       "\n",
       "    .dataframe thead th {\n",
       "        text-align: right;\n",
       "    }\n",
       "</style>\n",
       "<table border=\"1\" class=\"dataframe\">\n",
       "  <thead>\n",
       "    <tr style=\"text-align: right;\">\n",
       "      <th></th>\n",
       "      <th>cod_atividade</th>\n",
       "      <th>desc_atividade</th>\n",
       "    </tr>\n",
       "  </thead>\n",
       "  <tbody>\n",
       "    <tr>\n",
       "      <th>0</th>\n",
       "      <td>0111301</td>\n",
       "      <td>Cultivo de arroz</td>\n",
       "    </tr>\n",
       "    <tr>\n",
       "      <th>1</th>\n",
       "      <td>0111302</td>\n",
       "      <td>Cultivo de milho</td>\n",
       "    </tr>\n",
       "    <tr>\n",
       "      <th>2</th>\n",
       "      <td>0111303</td>\n",
       "      <td>Cultivo de trigo</td>\n",
       "    </tr>\n",
       "    <tr>\n",
       "      <th>3</th>\n",
       "      <td>0111399</td>\n",
       "      <td>Cultivo de outros cereais não especificados an...</td>\n",
       "    </tr>\n",
       "    <tr>\n",
       "      <th>4</th>\n",
       "      <td>0112101</td>\n",
       "      <td>Cultivo de algodão herbáceo</td>\n",
       "    </tr>\n",
       "  </tbody>\n",
       "</table>\n",
       "</div>"
      ],
      "text/plain": [
       "  cod_atividade                                     desc_atividade\n",
       "0       0111301                                   Cultivo de arroz\n",
       "1       0111302                                   Cultivo de milho\n",
       "2       0111303                                   Cultivo de trigo\n",
       "3       0111399  Cultivo de outros cereais não especificados an...\n",
       "4       0112101                        Cultivo de algodão herbáceo"
      ]
     },
     "metadata": {},
     "execution_count": 5
    }
   ],
   "metadata": {}
  },
  {
   "cell_type": "code",
   "execution_count": 6,
   "source": [
    "df_cnae.write.mode(\"overwrite\").parquet(\"gs://bootcamp-edc/raw/cnae.parquet\")"
   ],
   "outputs": [
    {
     "output_type": "stream",
     "name": "stderr",
     "text": []
    }
   ],
   "metadata": {}
  },
  {
   "cell_type": "markdown",
   "source": [
    "## Leitura dos dados de Município"
   ],
   "metadata": {}
  },
  {
   "cell_type": "code",
   "execution_count": 7,
   "source": [
    "del(df_cnae)"
   ],
   "outputs": [],
   "metadata": {}
  },
  {
   "cell_type": "code",
   "execution_count": 8,
   "source": [
    "schema_municipio = (\n",
    "    StructType([\n",
    "        StructField(\"cod_municipio\", StringType(), True),\n",
    "        StructField(\"desc_municipio\", StringType(), True)\n",
    "        ])\n",
    "    )"
   ],
   "outputs": [],
   "metadata": {}
  },
  {
   "cell_type": "code",
   "execution_count": 9,
   "source": [
    "df_municipio = spark.read.csv(\"gs://desafio-final/F.K03200$Z.D10710.MUNIC.csv\",\n",
    "                              sep=\";\",\n",
    "                              header=False,\n",
    "                              encoding=\"ISO-8859-1\",\n",
    "                              schema=schema_municipio)"
   ],
   "outputs": [],
   "metadata": {}
  },
  {
   "cell_type": "code",
   "execution_count": 10,
   "source": [
    "df_municipio.limit(5).toPandas()"
   ],
   "outputs": [
    {
     "output_type": "execute_result",
     "data": {
      "text/html": [
       "<div>\n",
       "<style scoped>\n",
       "    .dataframe tbody tr th:only-of-type {\n",
       "        vertical-align: middle;\n",
       "    }\n",
       "\n",
       "    .dataframe tbody tr th {\n",
       "        vertical-align: top;\n",
       "    }\n",
       "\n",
       "    .dataframe thead th {\n",
       "        text-align: right;\n",
       "    }\n",
       "</style>\n",
       "<table border=\"1\" class=\"dataframe\">\n",
       "  <thead>\n",
       "    <tr style=\"text-align: right;\">\n",
       "      <th></th>\n",
       "      <th>cod_municipio</th>\n",
       "      <th>desc_municipio</th>\n",
       "    </tr>\n",
       "  </thead>\n",
       "  <tbody>\n",
       "    <tr>\n",
       "      <th>0</th>\n",
       "      <td>0001</td>\n",
       "      <td>GUAJARA-MIRIM</td>\n",
       "    </tr>\n",
       "    <tr>\n",
       "      <th>1</th>\n",
       "      <td>0002</td>\n",
       "      <td>ALTO ALEGRE DOS PARECIS</td>\n",
       "    </tr>\n",
       "    <tr>\n",
       "      <th>2</th>\n",
       "      <td>0003</td>\n",
       "      <td>PORTO VELHO</td>\n",
       "    </tr>\n",
       "    <tr>\n",
       "      <th>3</th>\n",
       "      <td>0004</td>\n",
       "      <td>BURITIS</td>\n",
       "    </tr>\n",
       "    <tr>\n",
       "      <th>4</th>\n",
       "      <td>0005</td>\n",
       "      <td>JI-PARANA</td>\n",
       "    </tr>\n",
       "  </tbody>\n",
       "</table>\n",
       "</div>"
      ],
      "text/plain": [
       "  cod_municipio           desc_municipio\n",
       "0          0001            GUAJARA-MIRIM\n",
       "1          0002  ALTO ALEGRE DOS PARECIS\n",
       "2          0003              PORTO VELHO\n",
       "3          0004                  BURITIS\n",
       "4          0005                JI-PARANA"
      ]
     },
     "metadata": {},
     "execution_count": 10
    }
   ],
   "metadata": {}
  },
  {
   "cell_type": "code",
   "execution_count": 11,
   "source": [
    "df_municipio.write.mode(\"overwrite\").parquet(\"gs://bootcamp-edc/raw/municipio.parquet\")"
   ],
   "outputs": [
    {
     "output_type": "stream",
     "name": "stderr",
     "text": []
    }
   ],
   "metadata": {}
  },
  {
   "cell_type": "code",
   "execution_count": 12,
   "source": [
    "del(df_municipio)"
   ],
   "outputs": [],
   "metadata": {}
  },
  {
   "cell_type": "markdown",
   "source": [
    "## Leitura dos dados de estabelecimentos"
   ],
   "metadata": {}
  },
  {
   "cell_type": "code",
   "execution_count": 13,
   "source": [
    "schema_estabelecimento = (\n",
    "    StructType([\n",
    "        StructField(\"cnpj_basico\", StringType(), True),\n",
    "        StructField(\"cnpj_ordem\", StringType(), True),\n",
    "        StructField(\"cnpj_dig_verificador\", StringType(), True),\n",
    "        StructField(\"idc_matriz_filial\", StringType(), True),\n",
    "        StructField(\"nome_fantasia\", StringType(), True),\n",
    "        StructField(\"cod_situacao_cadastral\", StringType(), True),\n",
    "        StructField(\"data_situacao_cadastral\", StringType(), True),\n",
    "        StructField(\"motivo_situacao_cadastral\", StringType(), True),\n",
    "        StructField(\"nome_cidade_exterior\", StringType(), True),\n",
    "        StructField(\"cod_pais\", StringType(), True),\n",
    "        StructField(\"data_inicio_atividade\", StringType(), True),\n",
    "        StructField(\"cnae_fiscal_principal\", StringType(), True),\n",
    "        StructField(\"cnae_fiscal_secundaria\", StringType(), True),\n",
    "        StructField(\"tipo_logradouro\", StringType(), True),\n",
    "        StructField(\"nome_logradouro\", StringType(), True),\n",
    "        StructField(\"numero_logradouro\", StringType(), True),\n",
    "        StructField(\"complemento_logradouro\", StringType(), True),\n",
    "        StructField(\"nome_bairro\", StringType(), True),\n",
    "        StructField(\"cod_cep\", StringType(), True),\n",
    "        StructField(\"sigla_uf\", StringType(), True),\n",
    "        StructField(\"cod_municipio\", StringType(), True),\n",
    "        StructField(\"ddd_telefone_1\", StringType(), True),\n",
    "        StructField(\"num_telefone_1\", StringType(), True),\n",
    "        StructField(\"ddd_telefone_2\", StringType(), True),\n",
    "        StructField(\"num_telefone_2\", StringType(), True),\n",
    "        StructField(\"ddd_fax\", StringType(), True),\n",
    "        StructField(\"num_fax_2\", StringType(), True),\n",
    "        StructField(\"email\", StringType(), True),\n",
    "        StructField(\"situacao_especial\", StringType(), True),\n",
    "        StructField(\"data_situacao_especial\", StringType(), True)\n",
    "    ])\n",
    ")"
   ],
   "outputs": [],
   "metadata": {}
  },
  {
   "cell_type": "code",
   "execution_count": 14,
   "source": [
    "df_estabelecimento = spark.read.csv(\n",
    "    \"gs://desafio-final/estabelecimentos/K3241.K03200Y0.D10710.ESTABELE.csv\",\n",
    "    sep=\";\",\n",
    "    header=False,\n",
    "    encoding=\"ISO-8859-1\",\n",
    "    schema=schema_estabelecimento\n",
    ").sample(0.1)"
   ],
   "outputs": [],
   "metadata": {}
  },
  {
   "cell_type": "code",
   "execution_count": 15,
   "source": [
    "df_estabelecimento.limit(5).toPandas()"
   ],
   "outputs": [
    {
     "output_type": "stream",
     "name": "stderr",
     "text": [
      "21/09/12 22:50:10 WARN package: Truncated the string representation of a plan since it was too large. This behavior can be adjusted by setting 'spark.sql.debug.maxToStringFields'.\n"
     ]
    },
    {
     "output_type": "execute_result",
     "data": {
      "text/html": [
       "<div>\n",
       "<style scoped>\n",
       "    .dataframe tbody tr th:only-of-type {\n",
       "        vertical-align: middle;\n",
       "    }\n",
       "\n",
       "    .dataframe tbody tr th {\n",
       "        vertical-align: top;\n",
       "    }\n",
       "\n",
       "    .dataframe thead th {\n",
       "        text-align: right;\n",
       "    }\n",
       "</style>\n",
       "<table border=\"1\" class=\"dataframe\">\n",
       "  <thead>\n",
       "    <tr style=\"text-align: right;\">\n",
       "      <th></th>\n",
       "      <th>cnpj_basico</th>\n",
       "      <th>cnpj_ordem</th>\n",
       "      <th>cnpj_dig_verificador</th>\n",
       "      <th>idc_matriz_filial</th>\n",
       "      <th>nome_fantasia</th>\n",
       "      <th>cod_situacao_cadastral</th>\n",
       "      <th>data_situacao_cadastral</th>\n",
       "      <th>motivo_situacao_cadastral</th>\n",
       "      <th>nome_cidade_exterior</th>\n",
       "      <th>cod_pais</th>\n",
       "      <th>...</th>\n",
       "      <th>cod_municipio</th>\n",
       "      <th>ddd_telefone_1</th>\n",
       "      <th>num_telefone_1</th>\n",
       "      <th>ddd_telefone_2</th>\n",
       "      <th>num_telefone_2</th>\n",
       "      <th>ddd_fax</th>\n",
       "      <th>num_fax_2</th>\n",
       "      <th>email</th>\n",
       "      <th>situacao_especial</th>\n",
       "      <th>data_situacao_especial</th>\n",
       "    </tr>\n",
       "  </thead>\n",
       "  <tbody>\n",
       "    <tr>\n",
       "      <th>0</th>\n",
       "      <td>26638420</td>\n",
       "      <td>0001</td>\n",
       "      <td>91</td>\n",
       "      <td>1</td>\n",
       "      <td>NOBRE MADEIRAS DO BRASIL</td>\n",
       "      <td>04</td>\n",
       "      <td>20210212</td>\n",
       "      <td>63</td>\n",
       "      <td>None</td>\n",
       "      <td>None</td>\n",
       "      <td>...</td>\n",
       "      <td>9373</td>\n",
       "      <td>62</td>\n",
       "      <td>39881414</td>\n",
       "      <td>None</td>\n",
       "      <td>None</td>\n",
       "      <td>None</td>\n",
       "      <td>None</td>\n",
       "      <td>fmix.contabilidade@gmail.com</td>\n",
       "      <td>None</td>\n",
       "      <td>None</td>\n",
       "    </tr>\n",
       "    <tr>\n",
       "      <th>1</th>\n",
       "      <td>26638521</td>\n",
       "      <td>0001</td>\n",
       "      <td>62</td>\n",
       "      <td>1</td>\n",
       "      <td>ALTAS HORAS BEBIDAS</td>\n",
       "      <td>04</td>\n",
       "      <td>20210413</td>\n",
       "      <td>63</td>\n",
       "      <td>None</td>\n",
       "      <td>None</td>\n",
       "      <td>...</td>\n",
       "      <td>6475</td>\n",
       "      <td>13</td>\n",
       "      <td>96918061</td>\n",
       "      <td>None</td>\n",
       "      <td>None</td>\n",
       "      <td>None</td>\n",
       "      <td>None</td>\n",
       "      <td>franciscosilva.1234@outlook.com</td>\n",
       "      <td>None</td>\n",
       "      <td>None</td>\n",
       "    </tr>\n",
       "    <tr>\n",
       "      <th>2</th>\n",
       "      <td>26638557</td>\n",
       "      <td>0001</td>\n",
       "      <td>46</td>\n",
       "      <td>1</td>\n",
       "      <td>None</td>\n",
       "      <td>02</td>\n",
       "      <td>20160801</td>\n",
       "      <td>00</td>\n",
       "      <td>None</td>\n",
       "      <td>None</td>\n",
       "      <td>...</td>\n",
       "      <td>6249</td>\n",
       "      <td>14</td>\n",
       "      <td>33541753</td>\n",
       "      <td>None</td>\n",
       "      <td>None</td>\n",
       "      <td>14</td>\n",
       "      <td>33541753</td>\n",
       "      <td>ALEXANDRE@VISAOCONTABILBTU.COM.BR</td>\n",
       "      <td>None</td>\n",
       "      <td>None</td>\n",
       "    </tr>\n",
       "    <tr>\n",
       "      <th>3</th>\n",
       "      <td>26638778</td>\n",
       "      <td>0001</td>\n",
       "      <td>14</td>\n",
       "      <td>1</td>\n",
       "      <td>EDS PROJECTS</td>\n",
       "      <td>08</td>\n",
       "      <td>20200426</td>\n",
       "      <td>01</td>\n",
       "      <td>None</td>\n",
       "      <td>None</td>\n",
       "      <td>...</td>\n",
       "      <td>8801</td>\n",
       "      <td>51</td>\n",
       "      <td>97087878</td>\n",
       "      <td>None</td>\n",
       "      <td>None</td>\n",
       "      <td>None</td>\n",
       "      <td>None</td>\n",
       "      <td>EDSONDIASES@GMAIL.COM</td>\n",
       "      <td>None</td>\n",
       "      <td>None</td>\n",
       "    </tr>\n",
       "    <tr>\n",
       "      <th>4</th>\n",
       "      <td>26638891</td>\n",
       "      <td>0001</td>\n",
       "      <td>08</td>\n",
       "      <td>1</td>\n",
       "      <td>BEM VESTIDA</td>\n",
       "      <td>04</td>\n",
       "      <td>20210310</td>\n",
       "      <td>63</td>\n",
       "      <td>None</td>\n",
       "      <td>None</td>\n",
       "      <td>...</td>\n",
       "      <td>7149</td>\n",
       "      <td>19</td>\n",
       "      <td>82713151</td>\n",
       "      <td>None</td>\n",
       "      <td>None</td>\n",
       "      <td>None</td>\n",
       "      <td>None</td>\n",
       "      <td>TECABELEZA@HOTMAIL.COM</td>\n",
       "      <td>None</td>\n",
       "      <td>None</td>\n",
       "    </tr>\n",
       "  </tbody>\n",
       "</table>\n",
       "<p>5 rows × 30 columns</p>\n",
       "</div>"
      ],
      "text/plain": [
       "  cnpj_basico cnpj_ordem cnpj_dig_verificador idc_matriz_filial  \\\n",
       "0    26638420       0001                   91                 1   \n",
       "1    26638521       0001                   62                 1   \n",
       "2    26638557       0001                   46                 1   \n",
       "3    26638778       0001                   14                 1   \n",
       "4    26638891       0001                   08                 1   \n",
       "\n",
       "              nome_fantasia cod_situacao_cadastral data_situacao_cadastral  \\\n",
       "0  NOBRE MADEIRAS DO BRASIL                     04                20210212   \n",
       "1       ALTAS HORAS BEBIDAS                     04                20210413   \n",
       "2                      None                     02                20160801   \n",
       "3              EDS PROJECTS                     08                20200426   \n",
       "4               BEM VESTIDA                     04                20210310   \n",
       "\n",
       "  motivo_situacao_cadastral nome_cidade_exterior cod_pais  ... cod_municipio  \\\n",
       "0                        63                 None     None  ...          9373   \n",
       "1                        63                 None     None  ...          6475   \n",
       "2                        00                 None     None  ...          6249   \n",
       "3                        01                 None     None  ...          8801   \n",
       "4                        63                 None     None  ...          7149   \n",
       "\n",
       "  ddd_telefone_1 num_telefone_1 ddd_telefone_2 num_telefone_2 ddd_fax  \\\n",
       "0             62       39881414           None           None    None   \n",
       "1             13       96918061           None           None    None   \n",
       "2             14       33541753           None           None      14   \n",
       "3             51       97087878           None           None    None   \n",
       "4             19       82713151           None           None    None   \n",
       "\n",
       "  num_fax_2                              email situacao_especial  \\\n",
       "0      None       fmix.contabilidade@gmail.com              None   \n",
       "1      None    franciscosilva.1234@outlook.com              None   \n",
       "2  33541753  ALEXANDRE@VISAOCONTABILBTU.COM.BR              None   \n",
       "3      None              EDSONDIASES@GMAIL.COM              None   \n",
       "4      None             TECABELEZA@HOTMAIL.COM              None   \n",
       "\n",
       "  data_situacao_especial  \n",
       "0                   None  \n",
       "1                   None  \n",
       "2                   None  \n",
       "3                   None  \n",
       "4                   None  \n",
       "\n",
       "[5 rows x 30 columns]"
      ]
     },
     "metadata": {},
     "execution_count": 15
    }
   ],
   "metadata": {}
  },
  {
   "cell_type": "code",
   "execution_count": 16,
   "source": [
    "df_estabelecimento.write.mode(\"overwrite\").parquet(\"gs://bootcamp-edc/raw/estabelecimento.parquet\")"
   ],
   "outputs": [
    {
     "output_type": "stream",
     "name": "stderr",
     "text": []
    }
   ],
   "metadata": {}
  },
  {
   "cell_type": "code",
   "execution_count": 17,
   "source": [
    "spark.stop()"
   ],
   "outputs": [],
   "metadata": {}
  }
 ],
 "metadata": {
  "orig_nbformat": 4,
  "language_info": {
   "name": "python",
   "version": "3.8.10",
   "mimetype": "text/x-python",
   "codemirror_mode": {
    "name": "ipython",
    "version": 3
   },
   "pygments_lexer": "ipython3",
   "nbconvert_exporter": "python",
   "file_extension": ".py"
  },
  "kernelspec": {
   "name": "python3",
   "display_name": "Python 3.8.10 64-bit"
  },
  "interpreter": {
   "hash": "916dbcbb3f70747c44a77c7bcd40155683ae19c65e1c03b4aa3499c5328201f1"
  }
 },
 "nbformat": 4,
 "nbformat_minor": 2
}