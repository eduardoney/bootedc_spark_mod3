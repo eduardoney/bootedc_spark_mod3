{
 "cells": [
  {
   "cell_type": "code",
   "execution_count": 2,
   "source": [
    "#Imports iniciais para o funcinamento do spark\n",
    "import pyspark\n",
    "from pyspark.sql import SparkSession"
   ],
   "outputs": [],
   "metadata": {}
  },
  {
   "cell_type": "code",
   "execution_count": 3,
   "source": [
    "#Criando a spark session\n",
    "spark = (SparkSession\n",
    "         .builder\n",
    "         .appName('TrabPratico-mod3')\n",
    "         .getOrCreate())"
   ],
   "outputs": [
    {
     "output_type": "stream",
     "name": "stderr",
     "text": [
      "21/09/12 11:12:21 WARN Utils: Your hostname, eduney-pc resolves to a loopback address: 127.0.1.1; using 172.26.67.202 instead (on interface eth0)\n",
      "21/09/12 11:12:21 WARN Utils: Set SPARK_LOCAL_IP if you need to bind to another address\n",
      "WARNING: An illegal reflective access operation has occurred\n",
      "WARNING: Illegal reflective access by org.apache.spark.unsafe.Platform (file:/home/eduney/.local/lib/python3.8/site-packages/pyspark/jars/spark-unsafe_2.12-3.1.2.jar) to constructor java.nio.DirectByteBuffer(long,int)\n",
      "WARNING: Please consider reporting this to the maintainers of org.apache.spark.unsafe.Platform\n",
      "WARNING: Use --illegal-access=warn to enable warnings of further illegal reflective access operations\n",
      "WARNING: All illegal access operations will be denied in a future release\n",
      "21/09/12 11:12:22 WARN NativeCodeLoader: Unable to load native-hadoop library for your platform... using builtin-java classes where applicable\n",
      "Using Spark's default log4j profile: org/apache/spark/log4j-defaults.properties\n",
      "Setting default log level to \"WARN\".\n",
      "To adjust logging level use sc.setLogLevel(newLevel). For SparkR, use setLogLevel(newLevel).\n"
     ]
    }
   ],
   "metadata": {}
  },
  {
   "cell_type": "code",
   "execution_count": 28,
   "source": [
    "df_titles = (\n",
    "    spark.read\n",
    "    .csv('/mnt/c/Users/eduar/OneDrive/BootCamp EngDados/Modulo 3/data/title_basics.tsv',\n",
    "         header=True,\n",
    "         sep='\\t',\n",
    "         inferSchema=True)\n",
    "    )\n",
    "df_titles.show(5)"
   ],
   "outputs": [
    {
     "output_type": "stream",
     "name": "stderr",
     "text": []
    },
    {
     "output_type": "stream",
     "name": "stdout",
     "text": [
      "+---------+---------+--------------------+--------------------+-------+---------+-------+--------------+--------------------+\n",
      "|   tconst|titleType|        primaryTitle|       originalTitle|isAdult|startYear|endYear|runtimeMinutes|              genres|\n",
      "+---------+---------+--------------------+--------------------+-------+---------+-------+--------------+--------------------+\n",
      "|tt0000001|    short|          Carmencita|          Carmencita|      0|     1894|     \\N|             1|   Documentary,Short|\n",
      "|tt0000002|    short|Le clown et ses c...|Le clown et ses c...|      0|     1892|     \\N|             5|     Animation,Short|\n",
      "|tt0000003|    short|      Pauvre Pierrot|      Pauvre Pierrot|      0|     1892|     \\N|             4|Animation,Comedy,...|\n",
      "|tt0000004|    short|         Un bon bock|         Un bon bock|      0|     1892|     \\N|            12|     Animation,Short|\n",
      "|tt0000005|    short|    Blacksmith Scene|    Blacksmith Scene|      0|     1893|     \\N|             1|        Comedy,Short|\n",
      "+---------+---------+--------------------+--------------------+-------+---------+-------+--------------+--------------------+\n",
      "only showing top 5 rows\n",
      "\n"
     ]
    }
   ],
   "metadata": {}
  },
  {
   "cell_type": "code",
   "execution_count": 29,
   "source": [
    "df_ratings = (\n",
    "    spark.read\n",
    "    .csv('/mnt/c/Users/eduar/OneDrive/BootCamp EngDados/Modulo 3/data/title_ratings.tsv',\n",
    "         header=True,\n",
    "         sep='\\t',\n",
    "         inferSchema=True)\n",
    "    )\n",
    "df_ratings.show(5)"
   ],
   "outputs": [
    {
     "output_type": "stream",
     "name": "stdout",
     "text": [
      "+---------+-------------+--------+\n",
      "|   tconst|averageRating|numVotes|\n",
      "+---------+-------------+--------+\n",
      "|tt0000001|          5.7|    1809|\n",
      "|tt0000002|          6.0|     233|\n",
      "|tt0000003|          6.5|    1560|\n",
      "|tt0000004|          6.1|     152|\n",
      "|tt0000005|          6.2|    2383|\n",
      "+---------+-------------+--------+\n",
      "only showing top 5 rows\n",
      "\n"
     ]
    }
   ],
   "metadata": {}
  },
  {
   "cell_type": "code",
   "execution_count": 41,
   "source": [
    "df_titles.createOrReplaceTempView('tab_titles')\n",
    "df_ratings.createOrReplaceTempView('tab_ratings')"
   ],
   "outputs": [],
   "metadata": {}
  },
  {
   "cell_type": "code",
   "execution_count": 31,
   "source": [
    "#Quantos filmes (incluindo os da televisão) foram lançados no ano de 2015?\n",
    "(\n",
    "    spark.sql(\n",
    "        \"\"\"\n",
    "        Select count(1)\n",
    "        from tab_titles\n",
    "        where titleType in ('tvMovie','movie')\n",
    "        and startYear = '2015'\n",
    "        \"\"\"\n",
    "    )\n",
    ").show()"
   ],
   "outputs": [
    {
     "output_type": "stream",
     "name": "stderr",
     "text": []
    },
    {
     "output_type": "stream",
     "name": "stdout",
     "text": [
      "+--------+\n",
      "|count(1)|\n",
      "+--------+\n",
      "|   19987|\n",
      "+--------+\n",
      "\n"
     ]
    },
    {
     "output_type": "stream",
     "name": "stderr",
     "text": []
    }
   ],
   "metadata": {}
  },
  {
   "cell_type": "code",
   "execution_count": 38,
   "source": [
    "#Qual o gênero de títulos mais frequente? \n",
    "(\n",
    "    spark.sql(\n",
    "        \"\"\"\n",
    "        Select genre\n",
    "        , count(1)\n",
    "        FROM (\n",
    "            Select explode(split(genres,',')) as genre\n",
    "            from tab_titles\n",
    "        )\n",
    "        group by genre\n",
    "        order by count(1) desc\n",
    "        \"\"\"\n",
    "    )\n",
    ").show(5)"
   ],
   "outputs": [
    {
     "output_type": "stream",
     "name": "stderr",
     "text": []
    },
    {
     "output_type": "stream",
     "name": "stdout",
     "text": [
      "+-----------+--------+\n",
      "|      genre|count(1)|\n",
      "+-----------+--------+\n",
      "|      Drama| 2247995|\n",
      "|     Comedy| 1653725|\n",
      "|      Short| 1021850|\n",
      "|  Talk-Show|  900198|\n",
      "|Documentary|  764885|\n",
      "+-----------+--------+\n",
      "only showing top 5 rows\n",
      "\n"
     ]
    },
    {
     "output_type": "stream",
     "name": "stderr",
     "text": []
    }
   ],
   "metadata": {}
  },
  {
   "cell_type": "code",
   "execution_count": 44,
   "source": [
    "#Qual o gênero com a melhor nota média de títulos? \n",
    "(\n",
    "    spark.sql(\n",
    "        \"\"\"\n",
    "        Select genre\n",
    "        , avg(averageRating) as media_nota\n",
    "        , count(tconst)\n",
    "        FROM (\n",
    "            Select t.tconst\n",
    "            ,    r.averageRating\n",
    "            ,    explode(split(t.genres,',')) as genre\n",
    "            from tab_titles t\n",
    "            inner join tab_ratings r on t.tconst = r.tconst\n",
    "        )\n",
    "        group by genre\n",
    "        order by avg(averageRating) desc\n",
    "        \"\"\"\n",
    "    )\n",
    ").show(5)"
   ],
   "outputs": [
    {
     "output_type": "stream",
     "name": "stderr",
     "text": []
    },
    {
     "output_type": "stream",
     "name": "stdout",
     "text": [
      "+-----------+------------------+-------------+\n",
      "|      genre|        media_nota|count(tconst)|\n",
      "+-----------+------------------+-------------+\n",
      "|    History| 7.353780102645086|        30396|\n",
      "|Documentary| 7.240198535554575|       142443|\n",
      "|  Biography|  7.17553191489362|        23124|\n",
      "|    Mystery| 7.170086406897942|        54741|\n",
      "|      Crime|7.1598428684859385|       119645|\n",
      "+-----------+------------------+-------------+\n",
      "only showing top 5 rows\n",
      "\n"
     ]
    },
    {
     "output_type": "stream",
     "name": "stderr",
     "text": []
    }
   ],
   "metadata": {}
  },
  {
   "cell_type": "code",
   "execution_count": 60,
   "source": [
    "#Qual o vídeo game do gênero aventura mais bem avaliado em 2020?\n",
    "(\n",
    "    spark.sql(\n",
    "        \"\"\"\n",
    "        Select primaryTitle\n",
    "         ,    avg(averageRating) as media_nota\n",
    "        from (\n",
    "            Select t.primaryTitle\n",
    "            ,    r.averageRating\n",
    "            ,    explode(split(t.genres,',')) as genre\n",
    "            from tab_titles t\n",
    "            inner join tab_ratings r on t.tconst = r.tconst\n",
    "            where titleType = 'videoGame'\n",
    "            and startYear = '2020'\n",
    "            and array_contains(split(t.genres,','),'Adventure')\n",
    "        )\n",
    "        where genre = 'Adventure'\n",
    "        group by primaryTitle\n",
    "        order by avg(averageRating) desc\n",
    "        \"\"\"\n",
    "    )\n",
    ").show(5)"
   ],
   "outputs": [
    {
     "output_type": "stream",
     "name": "stderr",
     "text": []
    },
    {
     "output_type": "stream",
     "name": "stdout",
     "text": [
      "+--------------------+----------+\n",
      "|        primaryTitle|media_nota|\n",
      "+--------------------+----------+\n",
      "|     Half-Life: Alyx|       9.5|\n",
      "|   Ghost of Tsushima|       9.3|\n",
      "|               Omori|       9.2|\n",
      "|Ori and the Will ...|       9.1|\n",
      "|Final Fantasy VII...|       9.1|\n",
      "+--------------------+----------+\n",
      "only showing top 5 rows\n",
      "\n"
     ]
    },
    {
     "output_type": "stream",
     "name": "stderr",
     "text": []
    }
   ],
   "metadata": {}
  },
  {
   "cell_type": "code",
   "execution_count": 61,
   "source": [
    "#Qual o vídeo game do gênero aventura mais bem avaliado em 2020?  \n",
    "(\n",
    "    spark.sql(\n",
    "        \"\"\"\n",
    "        Select t.primaryTitle\n",
    "        ,    avg(r.averageRating) as media_nota\n",
    "        from tab_titles t\n",
    "        inner join tab_ratings r on t.tconst = r.tconst\n",
    "        where titleType = 'videoGame'\n",
    "          and startYear = '2020'\n",
    "          and array_contains(split(t.genres,','),'Adventure')\n",
    "        group by t.primaryTitle\n",
    "        order by avg(averageRating) desc\n",
    "        \"\"\"\n",
    "    )\n",
    ").show(5)"
   ],
   "outputs": [
    {
     "output_type": "stream",
     "name": "stderr",
     "text": []
    },
    {
     "output_type": "stream",
     "name": "stdout",
     "text": [
      "+--------------------+----------+\n",
      "|        primaryTitle|media_nota|\n",
      "+--------------------+----------+\n",
      "|     Half-Life: Alyx|       9.5|\n",
      "|   Ghost of Tsushima|       9.3|\n",
      "|               Omori|       9.2|\n",
      "|Ori and the Will ...|       9.1|\n",
      "|Final Fantasy VII...|       9.1|\n",
      "+--------------------+----------+\n",
      "only showing top 5 rows\n",
      "\n"
     ]
    },
    {
     "output_type": "stream",
     "name": "stderr",
     "text": []
    }
   ],
   "metadata": {}
  },
  {
   "cell_type": "code",
   "execution_count": 95,
   "source": [
    "#Qual o percentual de títulos do gênero comédia lançados em 2018 em relação ao total de títulos lançados nesse ano? \n",
    "(\n",
    "    spark.sql(\n",
    "        \"\"\"\n",
    "        Select genre\n",
    "        , count(1) as qtd\n",
    "        , max(qtd_total) as qtd_total\n",
    "        , (count(1) / max(qtd_total) * 100) as percentual\n",
    "        from (\n",
    "            Select primaryTitle\n",
    "            , explode(split(genres,',')) as genre\n",
    "            , qtd_total\n",
    "            from (Select t.primaryTitle\n",
    "                         ,t.genres\n",
    "                         , count(t.tconst) OVER (PARTITION BY startYear) as qtd_total\n",
    "                  from tab_titles t\n",
    "                  where startYear = '2018'\n",
    "                  )\n",
    "        )\n",
    "        where genre = 'Comedy'\n",
    "        group by genre\n",
    "        \"\"\"\n",
    "    )\n",
    ").show()"
   ],
   "outputs": [
    {
     "output_type": "stream",
     "name": "stderr",
     "text": []
    },
    {
     "output_type": "stream",
     "name": "stdout",
     "text": [
      "+------+-----+---------+------------------+\n",
      "| genre|  qtd|qtd_total|        percentual|\n",
      "+------+-----+---------+------------------+\n",
      "|Comedy|78809|   402244|19.592336989488967|\n",
      "+------+-----+---------+------------------+\n",
      "\n"
     ]
    },
    {
     "output_type": "stream",
     "name": "stderr",
     "text": []
    }
   ],
   "metadata": {}
  },
  {
   "cell_type": "code",
   "execution_count": 64,
   "source": [
    "df_titles.printSchema()"
   ],
   "outputs": [
    {
     "output_type": "stream",
     "name": "stdout",
     "text": [
      "root\n",
      " |-- tconst: string (nullable = true)\n",
      " |-- titleType: string (nullable = true)\n",
      " |-- primaryTitle: string (nullable = true)\n",
      " |-- originalTitle: string (nullable = true)\n",
      " |-- isAdult: string (nullable = true)\n",
      " |-- startYear: string (nullable = true)\n",
      " |-- endYear: string (nullable = true)\n",
      " |-- runtimeMinutes: string (nullable = true)\n",
      " |-- genres: string (nullable = true)\n",
      "\n"
     ]
    }
   ],
   "metadata": {}
  },
  {
   "cell_type": "code",
   "execution_count": 40,
   "source": [
    "df_ratings.printSchema()"
   ],
   "outputs": [
    {
     "output_type": "stream",
     "name": "stdout",
     "text": [
      "root\n",
      " |-- tconst: string (nullable = true)\n",
      " |-- averageRating: double (nullable = true)\n",
      " |-- numVotes: integer (nullable = true)\n",
      "\n"
     ]
    }
   ],
   "metadata": {}
  },
  {
   "cell_type": "code",
   "execution_count": 6,
   "source": [
    "spark.stop()"
   ],
   "outputs": [],
   "metadata": {}
  }
 ],
 "metadata": {
  "orig_nbformat": 4,
  "language_info": {
   "name": "python",
   "version": "3.8.10",
   "mimetype": "text/x-python",
   "codemirror_mode": {
    "name": "ipython",
    "version": 3
   },
   "pygments_lexer": "ipython3",
   "nbconvert_exporter": "python",
   "file_extension": ".py"
  },
  "kernelspec": {
   "name": "python3",
   "display_name": "Python 3.8.10 64-bit"
  },
  "interpreter": {
   "hash": "916dbcbb3f70747c44a77c7bcd40155683ae19c65e1c03b4aa3499c5328201f1"
  }
 },
 "nbformat": 4,
 "nbformat_minor": 2
}